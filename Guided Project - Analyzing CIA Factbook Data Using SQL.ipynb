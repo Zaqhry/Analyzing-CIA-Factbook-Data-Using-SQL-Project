{
 "cells": [
  {
   "cell_type": "markdown",
   "metadata": {},
   "source": [
    "# Analyzing CIA Factbook Data Using SQL"
   ]
  },
  {
   "cell_type": "markdown",
   "metadata": {},
   "source": [
    "### In this guided project, we will be analyzing data from the CIA World Factbook, which contains demographics and statistics about all countries on Earth.\n",
    "\n",
    "Some of the data provided in this factbook is as follows:\n",
    "\n",
    "- population — the global population.\n",
    "- population_growth — the annual population growth rate, as a percentage.\n",
    "- area — the total land and water area."
   ]
  },
  {
   "cell_type": "markdown",
   "metadata": {},
   "source": [
    "### Connecting the database file\n"
   ]
  },
  {
   "cell_type": "code",
   "execution_count": null,
   "metadata": {},
   "outputs": [],
   "source": [
    "%%capture\n",
    "%load_ext sql\n",
    "%sql sqlite:///factbook.db"
   ]
  },
  {
   "cell_type": "code",
   "execution_count": null,
   "metadata": {},
   "outputs": [],
   "source": [
    "%%sql\n",
    "SELECT *\n",
    "  FROM sqlite_master\n",
    " WHERE type='table';"
   ]
  },
  {
   "cell_type": "markdown",
   "metadata": {},
   "source": [
    "### First 5 rows of the 'facts' table in the database"
   ]
  },
  {
   "cell_type": "code",
   "execution_count": null,
   "metadata": {},
   "outputs": [],
   "source": [
    "%%sql\n",
    "SELECT *\n",
    "    FROM facts\n",
    "    LIMIT 5;"
   ]
  },
  {
   "cell_type": "markdown",
   "metadata": {},
   "source": [
    "### Here are the descriptions for some of the columns:\n",
    "- name — the name of the country.\n",
    "- area— the country's total area (both land and water).\n",
    "- area_land — the country's land area in square kilometers.\n",
    "- area_water — the country's waterarea in square kilometers.\n",
    "- population — the country's population.\n",
    "- population_growth— the country's population growth as a percentage.\n",
    "- birth_rate — the country's birth rate, or the number of births per year per - 1,000 people.\n",
    "- death_rate — the country's death rate, or the number of death per year per 1,000 people."
   ]
  },
  {
   "cell_type": "markdown",
   "metadata": {},
   "source": [
    "### Calculating some summary statistics and looking for any outlier countries"
   ]
  },
  {
   "cell_type": "code",
   "execution_count": null,
   "metadata": {},
   "outputs": [],
   "source": [
    "%%sql\n",
    "SELECT MIN(population) AS min_pop, MAX(population) AS max_pop, MIN(population_growth) AS min_pop_growth, MAX(population_growth) AS max_pop_growth\n",
    "    FROM facts;\n",
    "    "
   ]
  },
  {
   "cell_type": "code",
   "execution_count": null,
   "metadata": {},
   "outputs": [],
   "source": [
    "%%sql\n",
    "SELECT name\n",
    "    FROM facts\n",
    "    WHERE population IN (SELECT MIN(population) FROM facts);"
   ]
  },
  {
   "cell_type": "code",
   "execution_count": null,
   "metadata": {},
   "outputs": [],
   "source": [
    "%%sql\n",
    "SELECT name\n",
    "    FROM facts\n",
    "    WHERE population IN (SELECT MAX(population) FROM facts);"
   ]
  },
  {
   "cell_type": "markdown",
   "metadata": {},
   "source": [
    "**We can see that the data includes a row for the whole World called 'World' which is skewing our country population data. We'll rerun the same stats without this row below.**"
   ]
  },
  {
   "cell_type": "code",
   "execution_count": null,
   "metadata": {},
   "outputs": [],
   "source": [
    "%%sql\n",
    "SELECT MIN(population) AS min_pop, MAX(population) AS max_pop, MIN(population_growth) AS min_pop_growth, MAX(population_growth) AS max_pop_growth\n",
    "    FROM facts\n",
    "    WHERE name != 'World';"
   ]
  },
  {
   "cell_type": "code",
   "execution_count": null,
   "metadata": {},
   "outputs": [],
   "source": [
    "%%sql\n",
    "SELECT ROUND(AVG(population), 2) AS avg_pop, ROUND(AVG(area), 2) AS avg_area\n",
    "    FROM facts;"
   ]
  },
  {
   "cell_type": "code",
   "execution_count": null,
   "metadata": {},
   "outputs": [],
   "source": [
    "%%sql\n",
    "SELECT *\n",
    "    FROM facts\n",
    "    WHERE population > (SELECT ROUND(AVG(population), 2) \n",
    "                        FROM facts\n",
    "                        WHERE name <> 'World')\n",
    "    AND area < (SELECT ROUND(AVG(area), 2)\n",
    "                FROM facts\n",
    "                WHERE name <> 'World')\n",
    "    ORDER BY population DESC;"
   ]
  },
  {
   "cell_type": "markdown",
   "metadata": {},
   "source": [
    "### Above we can see there are 14 countries that have dense populations in below average areas.\n",
    "\n",
    "### We will answer the following questions below:\n",
    "\n",
    "- Which country has the most people? Which country has the highest growth rate?\n",
    "- Which countries have the highest ratios of water to land? Which countries have more water than land?\n",
    "- Which countries will add the most people to their populations next year?\n",
    "- Which countries have a higher death rate than birth rate?\n",
    "- Which countries have the highest population/area ratio, and how does it compare to list we found in the previous screen?"
   ]
  },
  {
   "cell_type": "markdown",
   "metadata": {},
   "source": [
    "**Which country has the most people?**"
   ]
  },
  {
   "cell_type": "code",
   "execution_count": null,
   "metadata": {},
   "outputs": [],
   "source": [
    "%%sql\n",
    "SELECT *\n",
    "    FROM facts\n",
    "    Where name <> 'World'\n",
    "    ORDER BY population DESC\n",
    "    LIMIT 1;"
   ]
  },
  {
   "cell_type": "markdown",
   "metadata": {},
   "source": [
    "**Which country has the highest growth rate?**"
   ]
  },
  {
   "cell_type": "code",
   "execution_count": null,
   "metadata": {},
   "outputs": [],
   "source": [
    "%%sql\n",
    "SELECT *\n",
    "    FROM facts\n",
    "    WHERE name != 'World'\n",
    "    ORDER BY population_growth DESC\n",
    "    LIMIT 1;"
   ]
  },
  {
   "cell_type": "markdown",
   "metadata": {},
   "source": [
    "**Which countries have the highest ratios of water to land?**"
   ]
  },
  {
   "cell_type": "code",
   "execution_count": null,
   "metadata": {},
   "outputs": [],
   "source": [
    "%%sql\n",
    "SELECT name, (area_water / area_land) AS water_land_ratio\n",
    "    FROM facts\n",
    "    WHERE name != 'World'\n",
    "    ORDER BY water_land_ratio DESC\n",
    "    LIMIT 3;"
   ]
  },
  {
   "cell_type": "markdown",
   "metadata": {},
   "source": [
    "**Which countries have more water than land?**\n",
    "\n",
    "**From our above query, we can see that only 2 countries have more water than land:**\n",
    "\n",
    "- **British Indian Ocean Territory**\n",
    "- **Virgin Islands.**\n",
    "\n",
    "**Which countries will add the most people to their populations next year?**"
   ]
  },
  {
   "cell_type": "code",
   "execution_count": null,
   "metadata": {},
   "outputs": [],
   "source": [
    "%%sql\n",
    "SELECT name, ROUND(birth_rate - death_rate, 2) AS birth_ratio\n",
    "    FROM facts\n",
    "    WHERE name != 'World'\n",
    "    ORDER BY birth_ratio DESC\n",
    "    LIMIT 3;"
   ]
  },
  {
   "cell_type": "markdown",
   "metadata": {},
   "source": [
    "**From the above query, we can see that the top 3 countries which will add the most people to their population next year according to birth ratio are:**\n",
    "\n",
    "- **Malawi**\n",
    "- **Uganda**\n",
    "- **Niger**\n",
    "\n",
    "**All of which happen to be countries in the African Continent (where it's very hot climate)**\n",
    "\n",
    "**Which countries have a higher death rate than birth rate?**"
   ]
  },
  {
   "cell_type": "code",
   "execution_count": null,
   "metadata": {},
   "outputs": [],
   "source": [
    "%%sql\n",
    "SELECT name, ROUND(death_rate - birth_rate, 2) AS death_ratio\n",
    "    FROM facts\n",
    "    WHERE name != 'World'\n",
    "    ORDER BY death_ratio DESC\n",
    "    LIMIT 3;"
   ]
  },
  {
   "cell_type": "markdown",
   "metadata": {},
   "source": [
    "**In the above query, we can see the top 3 countries which have higher death to birth ratios:**\n",
    "\n",
    "- **Bulgaria**\n",
    "- **Serbia**\n",
    "- **Latvia**\n",
    "\n",
    "**All 3 countries happen to be in Eastern Europe (where it's extremely cold)**\n",
    "\n",
    "**Which countries have the highest population/area ratio, and how does it compare to list we found in the previous screen?**"
   ]
  },
  {
   "cell_type": "code",
   "execution_count": null,
   "metadata": {},
   "outputs": [],
   "source": [
    "%%sql\n",
    "SELECT name, ROUND(population / area, 2) AS pop_area_ratio\n",
    "    FROM facts\n",
    "    WHERE name != 'World'\n",
    "    ORDER BY pop_area_ratio DESC\n",
    "    LIMIT 3;"
   ]
  },
  {
   "cell_type": "markdown",
   "metadata": {},
   "source": [
    "**In the above query, we can see that the top 3 countries with the highest population/area ratio are:**\n",
    "\n",
    "- **Macau**\n",
    "- **Monaco**\n",
    "- **Singapore**\n",
    "\n",
    "**Interestingly, these 3 countries are well developed and known to be some of the richest/most expensive countries.**"
   ]
  },
  {
   "cell_type": "markdown",
   "metadata": {},
   "source": [
    "## Summary of statistics found in this analysis:\n",
    "\n",
    "### In the course of this analysis of CIA Factbook data using SQL, we discovered the following statistics:\n",
    "\n",
    "- The lowest population of any country on Earth is 0, and that country (technically a Continent) is Antartica\n",
    "- The highest population of any country on Earth is 1,367,485,388, and that country is China\n",
    "- The lowest growth rate is 0, also Antartica\n",
    "- The highest growth rate is 4.02, South Sudan\n",
    "- The top 7 countries with above average populations AND below average total area are:\n",
    "  - Bangladesh\n",
    "  - Japan\n",
    "  - Philippines\n",
    "  - Vietnam\n",
    "  - Germany\n",
    "  - Thailand\n",
    "  - United Kingdom\n",
    "- There are only 2 countries with more water area than land area (water/land ratio):\n",
    "  - British Indian Ocean Territory\n",
    "  - Virgin Islands\n",
    "- The top 3 countries with the highest birth/death ratios:\n",
    "  - Malawi\n",
    "  - Uganda\n",
    "  - Niger\n",
    "- The top 3 countries with the highest death/birth ratios:\n",
    "  - Bulgaria\n",
    "  - Serbia\n",
    "  - Latvia\n",
    "- The top 3 countries with the highest population/area ratios:\n",
    "  - Macau\n",
    "  - Monaco\n",
    "  - Singapore"
   ]
  }
 ],
 "metadata": {
  "kernelspec": {
   "display_name": "Python 3",
   "language": "python",
   "name": "python3"
  },
  "language_info": {
   "codemirror_mode": {
    "name": "ipython",
    "version": 3
   },
   "file_extension": ".py",
   "mimetype": "text/x-python",
   "name": "python",
   "nbconvert_exporter": "python",
   "pygments_lexer": "ipython3",
   "version": "3.8.5"
  }
 },
 "nbformat": 4,
 "nbformat_minor": 4
}
